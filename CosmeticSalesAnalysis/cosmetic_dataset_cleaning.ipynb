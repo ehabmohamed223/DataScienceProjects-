{
 "cells": [
  {
   "cell_type": "code",
   "execution_count": 1,
   "id": "5f0b6717-5349-4be9-bb36-97df65354d57",
   "metadata": {},
   "outputs": [],
   "source": [
    "import pandas as pd \n",
    "import numpy as np \n",
    "import seaborn as sns\n",
    "import matplotlib.pyplot as plt"
   ]
  },
  {
   "cell_type": "markdown",
   "id": "62e8f07e-0f0c-4813-bdd3-66afb2bb097c",
   "metadata": {},
   "source": [
    "## Data Uploading"
   ]
  },
  {
   "cell_type": "code",
   "execution_count": 2,
   "id": "8d4e52e2-2efd-4c6e-850f-264fe0d8ad3f",
   "metadata": {},
   "outputs": [],
   "source": [
    "cosmetic_dataset = pd.read_csv(\"E-commerce  cosmetic dataset.csv\", encoding='ISO-8859-1')"
   ]
  },
  {
   "cell_type": "markdown",
   "id": "7e15802b-7740-43ab-9281-d410f0e29f80",
   "metadata": {},
   "source": [
    "## EDA Process & Data Processing"
   ]
  },
  {
   "cell_type": "code",
   "execution_count": 3,
   "id": "e7983d64-98c5-4c8c-8d37-57a7b6345c16",
   "metadata": {},
   "outputs": [
    {
     "data": {
      "text/html": [
       "<div>\n",
       "<style scoped>\n",
       "    .dataframe tbody tr th:only-of-type {\n",
       "        vertical-align: middle;\n",
       "    }\n",
       "\n",
       "    .dataframe tbody tr th {\n",
       "        vertical-align: top;\n",
       "    }\n",
       "\n",
       "    .dataframe thead th {\n",
       "        text-align: right;\n",
       "    }\n",
       "</style>\n",
       "<table border=\"1\" class=\"dataframe\">\n",
       "  <thead>\n",
       "    <tr style=\"text-align: right;\">\n",
       "      <th></th>\n",
       "      <th>product_name</th>\n",
       "      <th>website</th>\n",
       "      <th>country</th>\n",
       "      <th>category</th>\n",
       "      <th>subcategory</th>\n",
       "      <th>title-href</th>\n",
       "      <th>price</th>\n",
       "      <th>brand</th>\n",
       "      <th>ingredients</th>\n",
       "      <th>form</th>\n",
       "      <th>type</th>\n",
       "      <th>color</th>\n",
       "      <th>size</th>\n",
       "      <th>rating</th>\n",
       "      <th>noofratings</th>\n",
       "    </tr>\n",
       "  </thead>\n",
       "  <tbody>\n",
       "    <tr>\n",
       "      <th>0</th>\n",
       "      <td>Carlton London Incense Eau da parfum, Premium ...</td>\n",
       "      <td>Flipkart</td>\n",
       "      <td>India</td>\n",
       "      <td>body</td>\n",
       "      <td>perfume</td>\n",
       "      <td>https://www.amazon.in/Carlton-London-Limited-I...</td>\n",
       "      <td>599.0</td>\n",
       "      <td>Carlton London</td>\n",
       "      <td>NaN</td>\n",
       "      <td>aerosol</td>\n",
       "      <td>NaN</td>\n",
       "      <td>Top Note: Orange Blossom, Blackberry | Heart N...</td>\n",
       "      <td>100</td>\n",
       "      <td>3.9</td>\n",
       "      <td>19</td>\n",
       "    </tr>\n",
       "    <tr>\n",
       "      <th>1</th>\n",
       "      <td>CHARLENE SPRAY MIST PERFUME 30 - INTIMATE (PAC...</td>\n",
       "      <td>Flipkart</td>\n",
       "      <td>India</td>\n",
       "      <td>body</td>\n",
       "      <td>perfume</td>\n",
       "      <td>https://www.amazon.in/CHARLENE-SPRAY-MIST-PERF...</td>\n",
       "      <td>149.0</td>\n",
       "      <td>Charlene</td>\n",
       "      <td>NaN</td>\n",
       "      <td>aerosol</td>\n",
       "      <td>NaN</td>\n",
       "      <td>Unit count type:</td>\n",
       "      <td>30</td>\n",
       "      <td>4.4</td>\n",
       "      <td>4,031</td>\n",
       "    </tr>\n",
       "    <tr>\n",
       "      <th>2</th>\n",
       "      <td>CHARLENE SPRAY MIST PERFUME 30 - INTIMATE (PAC...</td>\n",
       "      <td>Flipkart</td>\n",
       "      <td>India</td>\n",
       "      <td>body</td>\n",
       "      <td>perfume</td>\n",
       "      <td>https://www.amazon.in/CHARLENE-SPRAY-MIST-PERF...</td>\n",
       "      <td>298.0</td>\n",
       "      <td>Charlene</td>\n",
       "      <td>NaN</td>\n",
       "      <td>aerosol</td>\n",
       "      <td>NaN</td>\n",
       "      <td>Unit count type:</td>\n",
       "      <td>30</td>\n",
       "      <td>4.4</td>\n",
       "      <td>4,072</td>\n",
       "    </tr>\n",
       "    <tr>\n",
       "      <th>3</th>\n",
       "      <td>DENVER Black Code Perfume - 60 | Eau de Parfum...</td>\n",
       "      <td>Flipkart</td>\n",
       "      <td>India</td>\n",
       "      <td>body</td>\n",
       "      <td>perfume</td>\n",
       "      <td>https://www.amazon.in/DENVER-Black-Code-Perfum...</td>\n",
       "      <td>245.0</td>\n",
       "      <td>Denver</td>\n",
       "      <td>NaN</td>\n",
       "      <td>aerosol</td>\n",
       "      <td>NaN</td>\n",
       "      <td>Long-Lasting Scent</td>\n",
       "      <td>60</td>\n",
       "      <td>4.2</td>\n",
       "      <td>61</td>\n",
       "    </tr>\n",
       "    <tr>\n",
       "      <th>4</th>\n",
       "      <td>Denver Hamilton Perfume - 100 | Long Lasting P...</td>\n",
       "      <td>Flipkart</td>\n",
       "      <td>India</td>\n",
       "      <td>body</td>\n",
       "      <td>perfume</td>\n",
       "      <td>https://www.amazon.in/Denver-Perfume-Hamilton-...</td>\n",
       "      <td>422.0</td>\n",
       "      <td>Denver</td>\n",
       "      <td>NaN</td>\n",
       "      <td>aerosol</td>\n",
       "      <td>NaN</td>\n",
       "      <td>Long-Lasting Scent</td>\n",
       "      <td>100</td>\n",
       "      <td>4.3</td>\n",
       "      <td>342</td>\n",
       "    </tr>\n",
       "  </tbody>\n",
       "</table>\n",
       "</div>"
      ],
      "text/plain": [
       "                                        product_name   website country  \\\n",
       "0  Carlton London Incense Eau da parfum, Premium ...  Flipkart   India   \n",
       "1  CHARLENE SPRAY MIST PERFUME 30 - INTIMATE (PAC...  Flipkart   India   \n",
       "2  CHARLENE SPRAY MIST PERFUME 30 - INTIMATE (PAC...  Flipkart   India   \n",
       "3  DENVER Black Code Perfume - 60 | Eau de Parfum...  Flipkart   India   \n",
       "4  Denver Hamilton Perfume - 100 | Long Lasting P...  Flipkart   India   \n",
       "\n",
       "  category subcategory                                         title-href  \\\n",
       "0     body     perfume  https://www.amazon.in/Carlton-London-Limited-I...   \n",
       "1     body     perfume  https://www.amazon.in/CHARLENE-SPRAY-MIST-PERF...   \n",
       "2     body     perfume  https://www.amazon.in/CHARLENE-SPRAY-MIST-PERF...   \n",
       "3     body     perfume  https://www.amazon.in/DENVER-Black-Code-Perfum...   \n",
       "4     body     perfume  https://www.amazon.in/Denver-Perfume-Hamilton-...   \n",
       "\n",
       "   price           brand ingredients     form type  \\\n",
       "0  599.0  Carlton London         NaN  aerosol  NaN   \n",
       "1  149.0        Charlene         NaN  aerosol  NaN   \n",
       "2  298.0        Charlene         NaN  aerosol  NaN   \n",
       "3  245.0          Denver         NaN  aerosol  NaN   \n",
       "4  422.0          Denver         NaN  aerosol  NaN   \n",
       "\n",
       "                                               color size rating noofratings  \n",
       "0  Top Note: Orange Blossom, Blackberry | Heart N...  100    3.9          19  \n",
       "1                                   Unit count type:   30    4.4       4,031  \n",
       "2                                   Unit count type:   30    4.4       4,072  \n",
       "3                                 Long-Lasting Scent   60    4.2          61  \n",
       "4                                 Long-Lasting Scent  100    4.3         342  "
      ]
     },
     "execution_count": 3,
     "metadata": {},
     "output_type": "execute_result"
    }
   ],
   "source": [
    "cosmetic_dataset.head()"
   ]
  },
  {
   "cell_type": "markdown",
   "id": "5af3c3e6-5eff-4feb-97b1-5540156b4d8b",
   "metadata": {},
   "source": [
    "## Columns Descriptions\n",
    "1. **Product Name**: Refers to the name of the cosmetic product.\n",
    "2. **Website**: Indicates the e-commerce website the product was scraped from (Ulta, Amazon, Flipkart, or Sephora).\n",
    "3. **Category**: Describes the main cosmetic category, such as eyes, face, lips, body, skincare, or hair.\n",
    "4. **Subcategory**: Provides more specific classification within the main category.\n",
    "5. **Href**: The direct URL link to the product page.\n",
    "6. **Price**: Shows the price of the product in Indian Rupees (INR).\n",
    "7. **Brand**: Specifies the brand associated with each product.\n",
    "8. **Ingredients**: Lists the components or substances used to make the product.\n",
    "9. **Form**: Refers to the physical consistency or format of the product (e.g., gel, cream, liquid).\n",
    "10. **Type**: Includes additional descriptive information about the product.\n",
    "11. **Color**: Indicates the product's color, if applicable.\n",
    "12. **Quantity**: States the volume or weight of the product, typically in milliliters (ml).\n",
    "13. **Rating**: Shows the average customer rating on a scale from 0 to 5.from 0 to 5.\n",
    "14. **Number of Ratings**: The total number of customers who have rated"
   ]
  },
  {
   "cell_type": "markdown",
   "id": "88d2d0e6-f7ad-4fc0-8807-27a02e3d141e",
   "metadata": {},
   "source": [
    "## Features Inspection"
   ]
  },
  {
   "cell_type": "code",
   "execution_count": 4,
   "id": "574903e8-64f9-4af5-a845-b290842173aa",
   "metadata": {},
   "outputs": [
    {
     "data": {
      "text/plain": [
       "(12615, 15)"
      ]
     },
     "execution_count": 4,
     "metadata": {},
     "output_type": "execute_result"
    }
   ],
   "source": [
    "cosmetic_dataset.shape"
   ]
  },
  {
   "cell_type": "code",
   "execution_count": 5,
   "id": "6978cabc-75f5-4453-8373-fdbf99d8b982",
   "metadata": {},
   "outputs": [
    {
     "name": "stdout",
     "output_type": "stream",
     "text": [
      "<class 'pandas.core.frame.DataFrame'>\n",
      "RangeIndex: 12615 entries, 0 to 12614\n",
      "Data columns (total 15 columns):\n",
      " #   Column        Non-Null Count  Dtype  \n",
      "---  ------        --------------  -----  \n",
      " 0   product_name  12615 non-null  object \n",
      " 1   website       12615 non-null  object \n",
      " 2   country       12615 non-null  object \n",
      " 3   category      12615 non-null  object \n",
      " 4   subcategory   12615 non-null  object \n",
      " 5   title-href    12615 non-null  object \n",
      " 6   price         12298 non-null  float64\n",
      " 7   brand         12615 non-null  object \n",
      " 8   ingredients   6600 non-null   object \n",
      " 9   form          12615 non-null  object \n",
      " 10  type          9934 non-null   object \n",
      " 11  color         10626 non-null  object \n",
      " 12  size          9449 non-null   object \n",
      " 13  rating        10548 non-null  object \n",
      " 14  noofratings   12156 non-null  object \n",
      "dtypes: float64(1), object(14)\n",
      "memory usage: 1.4+ MB\n"
     ]
    }
   ],
   "source": [
    "cosmetic_dataset.info()"
   ]
  },
  {
   "cell_type": "code",
   "execution_count": 6,
   "id": "7195934c-7040-4fb2-b844-3a5b66e6601a",
   "metadata": {},
   "outputs": [
    {
     "data": {
      "text/plain": [
       "product_name    11341\n",
       "website             5\n",
       "country             2\n",
       "category            6\n",
       "subcategory        36\n",
       "title-href      12244\n",
       "price            1975\n",
       "brand            1753\n",
       "ingredients      4839\n",
       "form               25\n",
       "type              133\n",
       "color            3357\n",
       "size              700\n",
       "rating            253\n",
       "noofratings      2096\n",
       "dtype: int64"
      ]
     },
     "execution_count": 6,
     "metadata": {},
     "output_type": "execute_result"
    }
   ],
   "source": [
    "cosmetic_dataset.nunique()"
   ]
  },
  {
   "cell_type": "code",
   "execution_count": 7,
   "id": "525628fb-4c25-4274-bb83-6bcdf4428fc4",
   "metadata": {},
   "outputs": [
    {
     "name": "stdout",
     "output_type": "stream",
     "text": [
      "Column Name : website\n",
      "['Flipkart' 'ulta' 'Sephora' 'Amazon' 'sephora']\n",
      "--------------------------------------------------------------------------------\n",
      "Column Name : country\n",
      "['India' 'USA']\n",
      "--------------------------------------------------------------------------------\n",
      "Column Name : category\n",
      "['body' 'eyes' 'face' 'hair' 'lips' 'skincare']\n",
      "--------------------------------------------------------------------------------\n",
      "Column Name : subcategory\n",
      "['perfume' 'bodywash' 'sunscreen' 'moisturizer' 'soap' 'mascara'\n",
      " 'eyeshadow' 'eyeliner' 'primer' 'eye primer' 'eyebrow' 'serum'\n",
      " 'eyelashes' 'foundation' 'shampoo' 'hairmask' 'conditioner' 'hairstyling'\n",
      " 'oil' 'dry shampoo' 'lipliner' 'lipgloss' 'lipstick' 'lipbalm' 'lipstain'\n",
      " 'cleanser' 'eye treatment' 'mask' 'toner' 'face wash' 'spray' 'blush'\n",
      " 'concealer' 'powder' 'highlighter' 'face oil']\n",
      "--------------------------------------------------------------------------------\n",
      "Column Name : form\n",
      "['aerosol' 'cream' 'foam' 'gel' 'liquid' 'lotion' 'solid' 'other'\n",
      " 'capsule' 'crayon' 'gaze' 'pen' 'pencil' 'powder' 'stick' 'strip' 'dry'\n",
      " 'mask' 'paste' 'mousse' 'tube' 'wipes' 'cushion' 'balm' 'serum']\n",
      "--------------------------------------------------------------------------------\n"
     ]
    }
   ],
   "source": [
    "for i in range(0, len(cosmetic_dataset.columns), 1):\n",
    "    if cosmetic_dataset[cosmetic_dataset.columns[i]].nunique()<= 36 :\n",
    "        print(\"Column Name :\", cosmetic_dataset.columns[i])\n",
    "        print(cosmetic_dataset[cosmetic_dataset.columns[i]].unique())\n",
    "        print(\"-\"*80)"
   ]
  },
  {
   "cell_type": "markdown",
   "id": "97f88610-5950-4d6e-ac48-cd462bf80ffc",
   "metadata": {},
   "source": [
    "#### Handling color feature "
   ]
  },
  {
   "cell_type": "code",
   "execution_count": 8,
   "id": "26638a40-95e2-4143-bba9-14a05a8ebc77",
   "metadata": {},
   "outputs": [
    {
     "data": {
      "text/plain": [
       "array(['Top Note: Orange Blossom, Blackberry | Heart Note: Bitter Almond, Jasmine, Coffee | Base Note: Vanilla, Cedar, White Musk',\n",
       "       'Unit count type:', 'Long-Lasting Scent', ..., 'Pinklite',\n",
       "       '001 Universal', 'Selfie Queen'], dtype=object)"
      ]
     },
     "execution_count": 8,
     "metadata": {},
     "output_type": "execute_result"
    }
   ],
   "source": [
    "cosmetic_dataset['color'].unique()"
   ]
  },
  {
   "cell_type": "code",
   "execution_count": 9,
   "id": "3ace8b73-9410-4fba-9c78-a2b6098ff75f",
   "metadata": {},
   "outputs": [
    {
     "data": {
      "text/plain": [
       "color\n",
       "No color                 4197\n",
       "Black                     440\n",
       "Multicolor                192\n",
       "No colour                 161\n",
       "Pink                      149\n",
       "Beige                      97\n",
       "Multi                      79\n",
       "White                      77\n",
       "no                         77\n",
       "As shown Picture           74\n",
       "BLACK                      67\n",
       "Brown                      64\n",
       "Red                        63\n",
       "As shown picture           55\n",
       "Orange                     53\n",
       "Blue                       48\n",
       "Clear                      43\n",
       "Transparent                40\n",
       "Green                      38\n",
       "Multicolour                33\n",
       "MULTICOLOR                 31\n",
       "Peach                      27\n",
       "Nude                       25\n",
       "Yellow                     24\n",
       "PINK                       22\n",
       "Silver                     21\n",
       "Natural                    20\n",
       "Gold                       20\n",
       "As shown in the image      19\n",
       "Rose                       19\n",
       "Jet Black                  19\n",
       "Medium Brown               17\n",
       "Blackest Black             16\n",
       "Ivory                      15\n",
       "Purple                     14\n",
       "Medium                     13\n",
       "Light                      13\n",
       "Bronze                     11\n",
       "Blonde                     11\n",
       "Multi-colored              11\n",
       "Multi-Color                10\n",
       "Mocha                      10\n",
       "As Per Image                9\n",
       "Plum                        9\n",
       "Dark                        9\n",
       "Dark Brown                  9\n",
       "Very Black                  9\n",
       "Caramel                     9\n",
       "Shade-01                    8\n",
       "Golden                      8\n",
       "Name: count, dtype: int64"
      ]
     },
     "execution_count": 9,
     "metadata": {},
     "output_type": "execute_result"
    }
   ],
   "source": [
    "cosmetic_dataset['color'].value_counts().head(50)"
   ]
  },
  {
   "cell_type": "markdown",
   "id": "524990e0-6ffd-48b3-9275-6827d6dfa99d",
   "metadata": {},
   "source": [
    "## Labeling Undefined Colors"
   ]
  },
  {
   "cell_type": "code",
   "execution_count": 10,
   "id": "66f3baef-ae81-4b82-a605-95f47f343ab9",
   "metadata": {},
   "outputs": [],
   "source": [
    "unclear_color_list = ['No color', 'Multicolor', 'No colour', 'no', 'Multicolour',\n",
    "                     'MULTICOLOR', 'As shown in the image', 'Multi-colored', 'Multi-Color',\n",
    "                      'As Per Image','As shown Picture','As shown picture','Multi']\n",
    "\n",
    "cosmetic_dataset['color'] = cosmetic_dataset['color'].replace(unclear_color_list, 'un-clear-color-defination')\n",
    "cosmetic_dataset['color'] = cosmetic_dataset['color'].fillna('un-clear-color-defination')"
   ]
  },
  {
   "cell_type": "code",
   "execution_count": 11,
   "id": "2faf890f-d97d-4d3b-a13f-f26675af6361",
   "metadata": {},
   "outputs": [
    {
     "data": {
      "text/plain": [
       "color\n",
       "un-clear-color-defination    6937\n",
       "Black                         440\n",
       "Pink                          149\n",
       "Beige                          97\n",
       "White                          77\n",
       "                             ... \n",
       "Snowball                        1\n",
       "5. Lustrous Nude                1\n",
       "Certainly Red                   1\n",
       "Power Move                      1\n",
       "Selfie Queen                    1\n",
       "Name: count, Length: 3345, dtype: int64"
      ]
     },
     "execution_count": 11,
     "metadata": {},
     "output_type": "execute_result"
    }
   ],
   "source": [
    "cosmetic_dataset['color'].value_counts()"
   ]
  },
  {
   "cell_type": "markdown",
   "id": "c671c6c1-70f5-421f-a5ea-dfff4aaa8262",
   "metadata": {},
   "source": [
    "#### Percentage of Undefined Colors "
   ]
  },
  {
   "cell_type": "code",
   "execution_count": 12,
   "id": "dfeecb68-683b-474a-bb2b-bc2804b59bd2",
   "metadata": {},
   "outputs": [
    {
     "data": {
      "text/plain": [
       "54.99"
      ]
     },
     "execution_count": 12,
     "metadata": {},
     "output_type": "execute_result"
    }
   ],
   "source": [
    "round((cosmetic_dataset['color'].value_counts().iloc[0] / len(cosmetic_dataset['color'])) * 100, 2)"
   ]
  },
  {
   "cell_type": "code",
   "execution_count": 13,
   "id": "e3ec045e-91ae-4168-9257-0cfb30af3a3f",
   "metadata": {},
   "outputs": [],
   "source": [
    "## --> 55 % of colors in not clearly defined"
   ]
  },
  {
   "cell_type": "code",
   "execution_count": 14,
   "id": "ec5d9589-69f3-46ff-bf9e-e2f4fd09df3d",
   "metadata": {},
   "outputs": [
    {
     "data": {
      "text/plain": [
       "3344"
      ]
     },
     "execution_count": 14,
     "metadata": {},
     "output_type": "execute_result"
    }
   ],
   "source": [
    "cosmetic_dataset['color'].value_counts()[1:].count()"
   ]
  },
  {
   "cell_type": "code",
   "execution_count": 15,
   "id": "837d8483-2514-455e-aaed-81fb45134f58",
   "metadata": {},
   "outputs": [
    {
     "data": {
      "text/plain": [
       "12615"
      ]
     },
     "execution_count": 15,
     "metadata": {},
     "output_type": "execute_result"
    }
   ],
   "source": [
    "len(cosmetic_dataset['color'])"
   ]
  },
  {
   "cell_type": "code",
   "execution_count": 16,
   "id": "229e43f6-ab49-4fe9-82b2-c414b521abcf",
   "metadata": {},
   "outputs": [
    {
     "name": "stdout",
     "output_type": "stream",
     "text": [
      "<class 'pandas.core.frame.DataFrame'>\n",
      "RangeIndex: 12615 entries, 0 to 12614\n",
      "Data columns (total 15 columns):\n",
      " #   Column        Non-Null Count  Dtype  \n",
      "---  ------        --------------  -----  \n",
      " 0   product_name  12615 non-null  object \n",
      " 1   website       12615 non-null  object \n",
      " 2   country       12615 non-null  object \n",
      " 3   category      12615 non-null  object \n",
      " 4   subcategory   12615 non-null  object \n",
      " 5   title-href    12615 non-null  object \n",
      " 6   price         12298 non-null  float64\n",
      " 7   brand         12615 non-null  object \n",
      " 8   ingredients   6600 non-null   object \n",
      " 9   form          12615 non-null  object \n",
      " 10  type          9934 non-null   object \n",
      " 11  color         12615 non-null  object \n",
      " 12  size          9449 non-null   object \n",
      " 13  rating        10548 non-null  object \n",
      " 14  noofratings   12156 non-null  object \n",
      "dtypes: float64(1), object(14)\n",
      "memory usage: 1.4+ MB\n"
     ]
    }
   ],
   "source": [
    "cosmetic_dataset.info()"
   ]
  },
  {
   "cell_type": "markdown",
   "id": "e5127f5e-d1c1-4797-8435-9b0662eeea6c",
   "metadata": {},
   "source": [
    "## Handling Missing Values"
   ]
  },
  {
   "cell_type": "code",
   "execution_count": 17,
   "id": "9d060ec5-9c67-4809-b8fb-bcdfa1702d4b",
   "metadata": {},
   "outputs": [],
   "source": [
    "cosmetic_dataset = cosmetic_dataset.dropna(subset=['price'])"
   ]
  },
  {
   "cell_type": "code",
   "execution_count": 18,
   "id": "fece3028-2ad5-4fe8-bcd0-6a0775a1961c",
   "metadata": {},
   "outputs": [
    {
     "name": "stdout",
     "output_type": "stream",
     "text": [
      "<class 'pandas.core.frame.DataFrame'>\n",
      "Index: 12298 entries, 0 to 12614\n",
      "Data columns (total 15 columns):\n",
      " #   Column        Non-Null Count  Dtype  \n",
      "---  ------        --------------  -----  \n",
      " 0   product_name  12298 non-null  object \n",
      " 1   website       12298 non-null  object \n",
      " 2   country       12298 non-null  object \n",
      " 3   category      12298 non-null  object \n",
      " 4   subcategory   12298 non-null  object \n",
      " 5   title-href    12298 non-null  object \n",
      " 6   price         12298 non-null  float64\n",
      " 7   brand         12298 non-null  object \n",
      " 8   ingredients   6594 non-null   object \n",
      " 9   form          12298 non-null  object \n",
      " 10  type          9660 non-null   object \n",
      " 11  color         12298 non-null  object \n",
      " 12  size          9230 non-null   object \n",
      " 13  rating        10394 non-null  object \n",
      " 14  noofratings   11871 non-null  object \n",
      "dtypes: float64(1), object(14)\n",
      "memory usage: 1.5+ MB\n"
     ]
    }
   ],
   "source": [
    "cosmetic_dataset.info()"
   ]
  },
  {
   "cell_type": "markdown",
   "id": "2c4eac0b-aa5c-4faf-b2ce-4a829ba9069d",
   "metadata": {},
   "source": [
    "## Handling Ratings "
   ]
  },
  {
   "cell_type": "code",
   "execution_count": 19,
   "id": "0071f6f4-e819-4b76-9537-fe15e379067c",
   "metadata": {},
   "outputs": [
    {
     "data": {
      "text/plain": [
       "array(['3.9', '4.4', '4.2', '4.3', '4.5', '4.1', '4.7', '4', nan, '4.8',\n",
       "       '4.6', '4.9', '3.7', '3', '5', '2.9', '3.6', '2.5', '3.2', '3.3',\n",
       "       '3.8', '1', '3.4', '3.1', '134', '122', '2.4', '2.1', '427', '100',\n",
       "       '2.3', '2', '3.5', '925', '14,338', '5.1', '1,374', '2,716', '109',\n",
       "       '254', '296', '474', '244', '20', '4.14', '4.29', '42', '4,257',\n",
       "       '895', '4.37', '4.18', '4.22', '4.21', '4.23', '4.19', '4.34',\n",
       "       '155', '44', '2,272', '4.13', '52', '1,201', '116', '4.15', '4.27',\n",
       "       '4.41', '4.51', '19,721', '1,875', '7,468', '2,595', '2,358',\n",
       "       '2,199', '536', '41', '25', '251', '506', '173', '1,379', '676',\n",
       "       '54', '53', '85', '4.07', '4.42', '4.33', '4.11', '4.24', '4.02',\n",
       "       '4.35', '4.09', '4.17', '4.28', '4.26', '4.08', '4.16', '4.12',\n",
       "       '4.05', '4.01', '4.06', '1.7', '4.39', '4.32', '4.87', '6', '4.61',\n",
       "       '5.11', '4.25', '4.04', '4.31', '4.53', '4.76', '4.43', '4.03',\n",
       "       '4.77', '4.38', '2.7', '4.45', '4.65', '4.47', '2.6', '4.46',\n",
       "       '4.44', '4.36', '48', '95', '92', '5.32', '4.52', '2.8', '4.54',\n",
       "       '265', '309', '34', '23', '1.6', '4.85', '1.8', '2.2', '1.9',\n",
       "       '1.5', '4.49', '4.55', '4.69', '4.78', '5.04', '5.98', '4.64',\n",
       "       '5.8', '4.48', '3.80', '4.20', '3.90', '4.60', '5.00', '1.00',\n",
       "       '2.00', '3.00', '4.00', '3.60', '4.80', '4.30', '4.10', '4.50',\n",
       "       '4.40', '3.40', '3.70', '2.8 out of 5 stars', '3.30',\n",
       "       '3.5 out of 5 stars', '4.70', '2.50', '4.90', '3.10', '3.20',\n",
       "       '2.20', '2.70', '2.80', '3.50', '3.24', '3.37', '3.69', '3.61',\n",
       "       '3.11', '3.44', '3.43', '3.19', '3.05', '3.14', '3.58', '3.65',\n",
       "       '3.71', '3.07', '3.12', '3.15', '3.06', '3.23', '3.27', '3.28',\n",
       "       '3.47', '3.02', '3.13', '3.45', '3.38', '3.41', '3.48', '3.53',\n",
       "       '3.55', '3.62', '3.63', '3.74', '3.31', '3.32', '3.34', '3.35',\n",
       "       '3.25', '3.33', '3.21', '3.49', '3.16', '3.42', '3.46', '3.08',\n",
       "       '3.99', '3.39', '3.36', '3.51', '3.04', '3.17', '3.09', '3.76',\n",
       "       '3.57', '3.56', '3.59', '3.68', '3.87', '3.52', '3.29', '3.81',\n",
       "       '3.91', '3.54', '3.77', '3.67', '3.78', '3.18', '3.64', '3.22',\n",
       "       '3.66', '3.73', '3.98', '3.26', '3.75', '3.95'], dtype=object)"
      ]
     },
     "execution_count": 19,
     "metadata": {},
     "output_type": "execute_result"
    }
   ],
   "source": [
    "cosmetic_dataset['rating'].unique()"
   ]
  },
  {
   "cell_type": "code",
   "execution_count": 20,
   "id": "20bf3019-bae0-499b-ab1b-70efd8f4db8a",
   "metadata": {},
   "outputs": [],
   "source": [
    "def clean_ratings(rating_series):\n",
    "    def convert_rating(value):\n",
    "        # Handle nan\n",
    "        if pd.isna(value):\n",
    "            return np.nan\n",
    "        # Convert to string to handle various types\n",
    "        value = str(value).strip()\n",
    "        # Handle 'out of 5 stars' format\n",
    "        if 'out of 5 stars' in value:\n",
    "            try:\n",
    "                return float(value.split(' out of')[0].strip())\n",
    "            except ValueError:\n",
    "                return np.nan\n",
    "        # Remove commas from numbers (e.g., '14,338' to 14338)\n",
    "        value = value.replace(',', '')\n",
    "        # Try to convert to float\n",
    "        try:\n",
    "            num = float(value)\n",
    "            # Check if the rating is within 0-5 range\n",
    "            if 0 <= num <= 5:\n",
    "                return num\n",
    "            else:\n",
    "                return np.nan  \n",
    "        except ValueError:\n",
    "            return np.nan  \n",
    "\n",
    "    return rating_series.apply(convert_rating)"
   ]
  },
  {
   "cell_type": "code",
   "execution_count": 21,
   "id": "64bffc8d-ae51-40ac-8d43-b8bc8e634267",
   "metadata": {},
   "outputs": [
    {
     "name": "stdout",
     "output_type": "stream",
     "text": [
      "[3.9  4.4  4.2  4.3  4.5  4.1  4.7  4.    nan 4.8  4.6  4.9  3.7  3.\n",
      " 5.   2.9  3.6  2.5  3.2  3.3  3.8  1.   3.4  3.1  2.4  2.1  2.3  2.\n",
      " 3.5  4.14 4.29 4.37 4.18 4.22 4.21 4.23 4.19 4.34 4.13 4.15 4.27 4.41\n",
      " 4.51 4.07 4.42 4.33 4.11 4.24 4.02 4.35 4.09 4.17 4.28 4.26 4.08 4.16\n",
      " 4.12 4.05 4.01 4.06 1.7  4.39 4.32 4.87 4.61 4.25 4.04 4.31 4.53 4.76\n",
      " 4.43 4.03 4.77 4.38 2.7  4.45 4.65 4.47 2.6  4.46 4.44 4.36 4.52 2.8\n",
      " 4.54 1.6  4.85 1.8  2.2  1.9  1.5  4.49 4.55 4.69 4.78 4.64 4.48 3.24\n",
      " 3.37 3.69 3.61 3.11 3.44 3.43 3.19 3.05 3.14 3.58 3.65 3.71 3.07 3.12\n",
      " 3.15 3.06 3.23 3.27 3.28 3.47 3.02 3.13 3.45 3.38 3.41 3.48 3.53 3.55\n",
      " 3.62 3.63 3.74 3.31 3.32 3.34 3.35 3.25 3.33 3.21 3.49 3.16 3.42 3.46\n",
      " 3.08 3.99 3.39 3.36 3.51 3.04 3.17 3.09 3.76 3.57 3.56 3.59 3.68 3.87\n",
      " 3.52 3.29 3.81 3.91 3.54 3.77 3.67 3.78 3.18 3.64 3.22 3.66 3.73 3.98\n",
      " 3.26 3.75 3.95]\n"
     ]
    }
   ],
   "source": [
    "cosmetic_dataset['rating'] = clean_ratings(cosmetic_dataset['rating'])\n",
    "print(cosmetic_dataset['rating'].unique())"
   ]
  },
  {
   "cell_type": "code",
   "execution_count": 22,
   "id": "441f27f0-ba1d-407c-b58d-7956a5200481",
   "metadata": {},
   "outputs": [
    {
     "name": "stderr",
     "output_type": "stream",
     "text": [
      "C:\\Users\\Blu-Ray\\anaconda3\\Lib\\site-packages\\seaborn\\_oldcore.py:1119: FutureWarning: use_inf_as_na option is deprecated and will be removed in a future version. Convert inf values to NaN before operating instead.\n",
      "  with pd.option_context('mode.use_inf_as_na', True):\n"
     ]
    },
    {
     "data": {
      "image/png": "[encoded data removed]",
      "text/plain": [
       "<Figure size 800x600 with 1 Axes>"
      ]
     },
     "metadata": {},
     "output_type": "display_data"
    }
   ],
   "source": [
    "ratings = cosmetic_dataset[cosmetic_dataset['rating'].notna()]['rating']\n",
    "\n",
    "plt.figure(figsize=(8, 6))  \n",
    "sns.kdeplot(data=ratings, fill=True, color='blue') \n",
    "plt.title('Kernel Density Estimation (KDE) Plot of Ratings')\n",
    "plt.xlabel('Rating')\n",
    "plt.ylabel('Density')\n",
    "plt.grid(True, alpha=0.5)  \n",
    "plt.xlim(0, 100) \n",
    "plt.show()"
   ]
  },
  {
   "cell_type": "code",
   "execution_count": 23,
   "id": "c69da6b7-5bf3-4b0e-ba15-66877f915d90",
   "metadata": {},
   "outputs": [
    {
     "data": {
      "text/plain": [
       "4.135679442508711"
      ]
     },
     "execution_count": 23,
     "metadata": {},
     "output_type": "execute_result"
    }
   ],
   "source": [
    "ratings.mean()"
   ]
  },
  {
   "cell_type": "code",
   "execution_count": 24,
   "id": "0f71bf6e-e2f1-43f0-97de-5e648ce158a6",
   "metadata": {},
   "outputs": [
    {
     "data": {
      "text/plain": [
       "4.2"
      ]
     },
     "execution_count": 24,
     "metadata": {},
     "output_type": "execute_result"
    }
   ],
   "source": [
    "ratings.median()"
   ]
  },
  {
   "cell_type": "code",
   "execution_count": 25,
   "id": "f0ba0a4f-5ba3-4237-93ca-de2b9796551b",
   "metadata": {},
   "outputs": [],
   "source": [
    "cosmetic_dataset['rating'] = cosmetic_dataset['rating'].fillna(ratings.median())"
   ]
  },
  {
   "cell_type": "code",
   "execution_count": 26,
   "id": "66d4d8a6-c8b8-45d4-9af1-65c775cfe6a6",
   "metadata": {},
   "outputs": [
    {
     "data": {
      "text/plain": [
       "array([3.9 , 4.4 , 4.2 , 4.3 , 4.5 , 4.1 , 4.7 , 4.  , 4.8 , 4.6 , 4.9 ,\n",
       "       3.7 , 3.  , 5.  , 2.9 , 3.6 , 2.5 , 3.2 , 3.3 , 3.8 , 1.  , 3.4 ,\n",
       "       3.1 , 2.4 , 2.1 , 2.3 , 2.  , 3.5 , 4.14, 4.29, 4.37, 4.18, 4.22,\n",
       "       4.21, 4.23, 4.19, 4.34, 4.13, 4.15, 4.27, 4.41, 4.51, 4.07, 4.42,\n",
       "       4.33, 4.11, 4.24, 4.02, 4.35, 4.09, 4.17, 4.28, 4.26, 4.08, 4.16,\n",
       "       4.12, 4.05, 4.01, 4.06, 1.7 , 4.39, 4.32, 4.87, 4.61, 4.25, 4.04,\n",
       "       4.31, 4.53, 4.76, 4.43, 4.03, 4.77, 4.38, 2.7 , 4.45, 4.65, 4.47,\n",
       "       2.6 , 4.46, 4.44, 4.36, 4.52, 2.8 , 4.54, 1.6 , 4.85, 1.8 , 2.2 ,\n",
       "       1.9 , 1.5 , 4.49, 4.55, 4.69, 4.78, 4.64, 4.48, 3.24, 3.37, 3.69,\n",
       "       3.61, 3.11, 3.44, 3.43, 3.19, 3.05, 3.14, 3.58, 3.65, 3.71, 3.07,\n",
       "       3.12, 3.15, 3.06, 3.23, 3.27, 3.28, 3.47, 3.02, 3.13, 3.45, 3.38,\n",
       "       3.41, 3.48, 3.53, 3.55, 3.62, 3.63, 3.74, 3.31, 3.32, 3.34, 3.35,\n",
       "       3.25, 3.33, 3.21, 3.49, 3.16, 3.42, 3.46, 3.08, 3.99, 3.39, 3.36,\n",
       "       3.51, 3.04, 3.17, 3.09, 3.76, 3.57, 3.56, 3.59, 3.68, 3.87, 3.52,\n",
       "       3.29, 3.81, 3.91, 3.54, 3.77, 3.67, 3.78, 3.18, 3.64, 3.22, 3.66,\n",
       "       3.73, 3.98, 3.26, 3.75, 3.95])"
      ]
     },
     "execution_count": 26,
     "metadata": {},
     "output_type": "execute_result"
    }
   ],
   "source": [
    "cosmetic_dataset['rating'].unique()"
   ]
  },
  {
   "cell_type": "code",
   "execution_count": 27,
   "id": "16ab6671-d8b3-47f1-afb7-6b80f35f8b9e",
   "metadata": {},
   "outputs": [
    {
     "name": "stdout",
     "output_type": "stream",
     "text": [
      "<class 'pandas.core.frame.DataFrame'>\n",
      "Index: 12298 entries, 0 to 12614\n",
      "Data columns (total 15 columns):\n",
      " #   Column        Non-Null Count  Dtype  \n",
      "---  ------        --------------  -----  \n",
      " 0   product_name  12298 non-null  object \n",
      " 1   website       12298 non-null  object \n",
      " 2   country       12298 non-null  object \n",
      " 3   category      12298 non-null  object \n",
      " 4   subcategory   12298 non-null  object \n",
      " 5   title-href    12298 non-null  object \n",
      " 6   price         12298 non-null  float64\n",
      " 7   brand         12298 non-null  object \n",
      " 8   ingredients   6594 non-null   object \n",
      " 9   form          12298 non-null  object \n",
      " 10  type          9660 non-null   object \n",
      " 11  color         12298 non-null  object \n",
      " 12  size          9230 non-null   object \n",
      " 13  rating        12298 non-null  float64\n",
      " 14  noofratings   11871 non-null  object \n",
      "dtypes: float64(2), object(13)\n",
      "memory usage: 1.5+ MB\n"
     ]
    }
   ],
   "source": [
    "cosmetic_dataset.info()"
   ]
  },
  {
   "cell_type": "markdown",
   "id": "ea793968-26c7-4cb0-8983-2adce631ca9c",
   "metadata": {},
   "source": [
    "## Final Dataset for Applying Analysis using Excel fpr Visiulaization "
   ]
  },
  {
   "cell_type": "code",
   "execution_count": 32,
   "id": "4bebce38-6577-45a4-b61a-4faf43d433e9",
   "metadata": {},
   "outputs": [],
   "source": [
    "cosmetic_processed_dataset =  cosmetic_dataset[['product_name', 'website', 'country', 'category','subcategory','price','brand','form','rating']]"
   ]
  },
  {
   "cell_type": "code",
   "execution_count": 33,
   "id": "7b33eb9f-4fa8-470f-814e-047ee7589a67",
   "metadata": {},
   "outputs": [
    {
     "data": {
      "text/html": [
       "<div>\n",
       "<style scoped>\n",
       "    .dataframe tbody tr th:only-of-type {\n",
       "        vertical-align: middle;\n",
       "    }\n",
       "\n",
       "    .dataframe tbody tr th {\n",
       "        vertical-align: top;\n",
       "    }\n",
       "\n",
       "    .dataframe thead th {\n",
       "        text-align: right;\n",
       "    }\n",
       "</style>\n",
       "<table border=\"1\" class=\"dataframe\">\n",
       "  <thead>\n",
       "    <tr style=\"text-align: right;\">\n",
       "      <th></th>\n",
       "      <th>product_name</th>\n",
       "      <th>website</th>\n",
       "      <th>country</th>\n",
       "      <th>category</th>\n",
       "      <th>subcategory</th>\n",
       "      <th>price</th>\n",
       "      <th>brand</th>\n",
       "      <th>form</th>\n",
       "      <th>rating</th>\n",
       "    </tr>\n",
       "  </thead>\n",
       "  <tbody>\n",
       "    <tr>\n",
       "      <th>0</th>\n",
       "      <td>Carlton London Incense Eau da parfum, Premium ...</td>\n",
       "      <td>Flipkart</td>\n",
       "      <td>India</td>\n",
       "      <td>body</td>\n",
       "      <td>perfume</td>\n",
       "      <td>599.0</td>\n",
       "      <td>Carlton London</td>\n",
       "      <td>aerosol</td>\n",
       "      <td>3.90</td>\n",
       "    </tr>\n",
       "    <tr>\n",
       "      <th>1</th>\n",
       "      <td>CHARLENE SPRAY MIST PERFUME 30 - INTIMATE (PAC...</td>\n",
       "      <td>Flipkart</td>\n",
       "      <td>India</td>\n",
       "      <td>body</td>\n",
       "      <td>perfume</td>\n",
       "      <td>149.0</td>\n",
       "      <td>Charlene</td>\n",
       "      <td>aerosol</td>\n",
       "      <td>4.40</td>\n",
       "    </tr>\n",
       "    <tr>\n",
       "      <th>2</th>\n",
       "      <td>CHARLENE SPRAY MIST PERFUME 30 - INTIMATE (PAC...</td>\n",
       "      <td>Flipkart</td>\n",
       "      <td>India</td>\n",
       "      <td>body</td>\n",
       "      <td>perfume</td>\n",
       "      <td>298.0</td>\n",
       "      <td>Charlene</td>\n",
       "      <td>aerosol</td>\n",
       "      <td>4.40</td>\n",
       "    </tr>\n",
       "    <tr>\n",
       "      <th>3</th>\n",
       "      <td>DENVER Black Code Perfume - 60 | Eau de Parfum...</td>\n",
       "      <td>Flipkart</td>\n",
       "      <td>India</td>\n",
       "      <td>body</td>\n",
       "      <td>perfume</td>\n",
       "      <td>245.0</td>\n",
       "      <td>Denver</td>\n",
       "      <td>aerosol</td>\n",
       "      <td>4.20</td>\n",
       "    </tr>\n",
       "    <tr>\n",
       "      <th>4</th>\n",
       "      <td>Denver Hamilton Perfume - 100 | Long Lasting P...</td>\n",
       "      <td>Flipkart</td>\n",
       "      <td>India</td>\n",
       "      <td>body</td>\n",
       "      <td>perfume</td>\n",
       "      <td>422.0</td>\n",
       "      <td>Denver</td>\n",
       "      <td>aerosol</td>\n",
       "      <td>4.30</td>\n",
       "    </tr>\n",
       "    <tr>\n",
       "      <th>...</th>\n",
       "      <td>...</td>\n",
       "      <td>...</td>\n",
       "      <td>...</td>\n",
       "      <td>...</td>\n",
       "      <td>...</td>\n",
       "      <td>...</td>\n",
       "      <td>...</td>\n",
       "      <td>...</td>\n",
       "      <td>...</td>\n",
       "    </tr>\n",
       "    <tr>\n",
       "      <th>12610</th>\n",
       "      <td>Bright Future - Smoothing &amp; Brightening Concea...</td>\n",
       "      <td>Sephora</td>\n",
       "      <td>India</td>\n",
       "      <td>face</td>\n",
       "      <td>concealer</td>\n",
       "      <td>1900.0</td>\n",
       "      <td>MAC Cosmetics</td>\n",
       "      <td>cream</td>\n",
       "      <td>3.15</td>\n",
       "    </tr>\n",
       "    <tr>\n",
       "      <th>12611</th>\n",
       "      <td>Bright Future - Smoothing &amp; Brightening Concea...</td>\n",
       "      <td>Sephora</td>\n",
       "      <td>India</td>\n",
       "      <td>face</td>\n",
       "      <td>concealer</td>\n",
       "      <td>2150.0</td>\n",
       "      <td>MAC Cosmetics</td>\n",
       "      <td>cream</td>\n",
       "      <td>3.13</td>\n",
       "    </tr>\n",
       "    <tr>\n",
       "      <th>12612</th>\n",
       "      <td>Starlaa Rosy Bronze Blush Mini</td>\n",
       "      <td>Sephora</td>\n",
       "      <td>India</td>\n",
       "      <td>face</td>\n",
       "      <td>blush</td>\n",
       "      <td>3040.0</td>\n",
       "      <td>Klara Cosmetics</td>\n",
       "      <td>powder</td>\n",
       "      <td>4.03</td>\n",
       "    </tr>\n",
       "    <tr>\n",
       "      <th>12613</th>\n",
       "      <td>Terra Golden Brick Red Blush Travel Size Mini</td>\n",
       "      <td>Sephora</td>\n",
       "      <td>India</td>\n",
       "      <td>face</td>\n",
       "      <td>blush</td>\n",
       "      <td>2950.0</td>\n",
       "      <td>CLINIQUE</td>\n",
       "      <td>liquid</td>\n",
       "      <td>3.15</td>\n",
       "    </tr>\n",
       "    <tr>\n",
       "      <th>12614</th>\n",
       "      <td>Peachin' Golden Peach Blush Travel Size Mini</td>\n",
       "      <td>Sephora</td>\n",
       "      <td>India</td>\n",
       "      <td>face</td>\n",
       "      <td>blush</td>\n",
       "      <td>5850.0</td>\n",
       "      <td>Lancme</td>\n",
       "      <td>serum</td>\n",
       "      <td>3.16</td>\n",
       "    </tr>\n",
       "  </tbody>\n",
       "</table>\n",
       "<p>12298 rows × 9 columns</p>\n",
       "</div>"
      ],
      "text/plain": [
       "                                            product_name   website country  \\\n",
       "0      Carlton London Incense Eau da parfum, Premium ...  Flipkart   India   \n",
       "1      CHARLENE SPRAY MIST PERFUME 30 - INTIMATE (PAC...  Flipkart   India   \n",
       "2      CHARLENE SPRAY MIST PERFUME 30 - INTIMATE (PAC...  Flipkart   India   \n",
       "3      DENVER Black Code Perfume - 60 | Eau de Parfum...  Flipkart   India   \n",
       "4      Denver Hamilton Perfume - 100 | Long Lasting P...  Flipkart   India   \n",
       "...                                                  ...       ...     ...   \n",
       "12610  Bright Future - Smoothing & Brightening Concea...   Sephora   India   \n",
       "12611  Bright Future - Smoothing & Brightening Concea...   Sephora   India   \n",
       "12612                     Starlaa Rosy Bronze Blush Mini   Sephora   India   \n",
       "12613      Terra Golden Brick Red Blush Travel Size Mini   Sephora   India   \n",
       "12614       Peachin' Golden Peach Blush Travel Size Mini   Sephora   India   \n",
       "\n",
       "      category subcategory   price            brand     form  rating  \n",
       "0         body     perfume   599.0   Carlton London  aerosol    3.90  \n",
       "1         body     perfume   149.0         Charlene  aerosol    4.40  \n",
       "2         body     perfume   298.0         Charlene  aerosol    4.40  \n",
       "3         body     perfume   245.0           Denver  aerosol    4.20  \n",
       "4         body     perfume   422.0           Denver  aerosol    4.30  \n",
       "...        ...         ...     ...              ...      ...     ...  \n",
       "12610     face   concealer  1900.0    MAC Cosmetics    cream    3.15  \n",
       "12611     face   concealer  2150.0    MAC Cosmetics    cream    3.13  \n",
       "12612     face       blush  3040.0  Klara Cosmetics   powder    4.03  \n",
       "12613     face       blush  2950.0         CLINIQUE   liquid    3.15  \n",
       "12614     face       blush  5850.0           Lancme    serum    3.16  \n",
       "\n",
       "[12298 rows x 9 columns]"
      ]
     },
     "execution_count": 33,
     "metadata": {},
     "output_type": "execute_result"
    }
   ],
   "source": [
    "cosmetic_processed_dataset"
   ]
  },
  {
   "cell_type": "code",
   "execution_count": 34,
   "id": "a2f2458e-6bfd-46f6-9e5e-a6262d9a45a5",
   "metadata": {},
   "outputs": [],
   "source": [
    "cosmetic_processed_dataset.to_csv(\"cosmetic_processed_dataset.csv\")"
   ]
  }
 ],
 "metadata": {
  "kernelspec": {
   "display_name": "Python 3 (ipykernel)",
   "language": "python",
   "name": "python3"
  },
  "language_info": {
   "codemirror_mode": {
    "name": "ipython",
    "version": 3
   },
   "file_extension": ".py",
   "mimetype": "text/x-python",
   "name": "python",
   "nbconvert_exporter": "python",
   "pygments_lexer": "ipython3",
   "version": "3.11.5"
  }
 },
 "nbformat": 4,
 "nbformat_minor": 5
}
